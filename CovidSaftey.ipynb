{
 "cells": [
  {
   "cell_type": "markdown",
   "metadata": {},
   "source": [
    "---\n",
    "\n",
    "## **Introduction**"
   ]
  },
  {
   "cell_type": "markdown",
   "metadata": {},
   "source": [
    "The final project for this class was to find out with neighborhood in Pittsburg is the best one. In order to find this out I needed a metric and thought saftey was a big one. Due to being in the middle of a pandemic, I thought mapping out pitt by number of vacinated people would be best. This would give the safety area in pitt in regards to covid 19."
   ]
  },
  {
   "cell_type": "markdown",
   "metadata": {},
   "source": [
    "The data and information I got can be found \n",
    "Here :https://data.wprdc.org/dataset/allegheny-county-covid-19-vaccinations/resource/96cf8cdc-2b8e-43cb-b20b-443f236bcc60"
   ]
  },
  {
   "cell_type": "markdown",
   "metadata": {},
   "source": [
    "To start I added my imports and started had the object read the data from the dataset"
   ]
  },
  {
   "cell_type": "code",
   "execution_count": 32,
   "metadata": {},
   "outputs": [],
   "source": [
    "import pandas as pd\n",
    "import geopandas\n",
    "import numpy as np\n",
    "%matplotlib inline\n",
    "import matplotlib.pyplot as plt"
   ]
  },
  {
   "cell_type": "code",
   "execution_count": 37,
   "metadata": {},
   "outputs": [
    {
     "data": {
      "text/html": [
       "<div>\n",
       "<style scoped>\n",
       "    .dataframe tbody tr th:only-of-type {\n",
       "        vertical-align: middle;\n",
       "    }\n",
       "\n",
       "    .dataframe tbody tr th {\n",
       "        vertical-align: top;\n",
       "    }\n",
       "\n",
       "    .dataframe thead th {\n",
       "        text-align: right;\n",
       "    }\n",
       "</style>\n",
       "<table border=\"1\" class=\"dataframe\">\n",
       "  <thead>\n",
       "    <tr style=\"text-align: right;\">\n",
       "      <th></th>\n",
       "      <th>neighborhood_municipality</th>\n",
       "      <th>total_partially_vaccinated</th>\n",
       "      <th>total_fully_vaccinated</th>\n",
       "      <th>total_fully_vaccinated_w_booster</th>\n",
       "    </tr>\n",
       "  </thead>\n",
       "  <tbody>\n",
       "    <tr>\n",
       "      <th>0</th>\n",
       "      <td>Aspinwall</td>\n",
       "      <td>264</td>\n",
       "      <td>1136</td>\n",
       "      <td>1175</td>\n",
       "    </tr>\n",
       "    <tr>\n",
       "      <th>1</th>\n",
       "      <td>Avalon</td>\n",
       "      <td>345</td>\n",
       "      <td>1703</td>\n",
       "      <td>1445</td>\n",
       "    </tr>\n",
       "    <tr>\n",
       "      <th>2</th>\n",
       "      <td>Baldwin Borough</td>\n",
       "      <td>1421</td>\n",
       "      <td>7370</td>\n",
       "      <td>7325</td>\n",
       "    </tr>\n",
       "    <tr>\n",
       "      <th>3</th>\n",
       "      <td>Baldwin Township</td>\n",
       "      <td>126</td>\n",
       "      <td>678</td>\n",
       "      <td>746</td>\n",
       "    </tr>\n",
       "    <tr>\n",
       "      <th>4</th>\n",
       "      <td>Ben Avon</td>\n",
       "      <td>173</td>\n",
       "      <td>680</td>\n",
       "      <td>656</td>\n",
       "    </tr>\n",
       "    <tr>\n",
       "      <th>5</th>\n",
       "      <td>Ben Avon Heights</td>\n",
       "      <td>36</td>\n",
       "      <td>144</td>\n",
       "      <td>165</td>\n",
       "    </tr>\n",
       "    <tr>\n",
       "      <th>6</th>\n",
       "      <td>Bethel Park</td>\n",
       "      <td>2328</td>\n",
       "      <td>11223</td>\n",
       "      <td>13100</td>\n",
       "    </tr>\n",
       "    <tr>\n",
       "      <th>7</th>\n",
       "      <td>Brackenridge</td>\n",
       "      <td>202</td>\n",
       "      <td>1009</td>\n",
       "      <td>719</td>\n",
       "    </tr>\n",
       "    <tr>\n",
       "      <th>8</th>\n",
       "      <td>Braddock Hills</td>\n",
       "      <td>127</td>\n",
       "      <td>576</td>\n",
       "      <td>507</td>\n",
       "    </tr>\n",
       "    <tr>\n",
       "      <th>9</th>\n",
       "      <td>Bradford Woods</td>\n",
       "      <td>106</td>\n",
       "      <td>460</td>\n",
       "      <td>475</td>\n",
       "    </tr>\n",
       "  </tbody>\n",
       "</table>\n",
       "</div>"
      ],
      "text/plain": [
       "  neighborhood_municipality  total_partially_vaccinated  \\\n",
       "0                 Aspinwall                         264   \n",
       "1                    Avalon                         345   \n",
       "2           Baldwin Borough                        1421   \n",
       "3          Baldwin Township                         126   \n",
       "4                  Ben Avon                         173   \n",
       "5          Ben Avon Heights                          36   \n",
       "6               Bethel Park                        2328   \n",
       "7              Brackenridge                         202   \n",
       "8            Braddock Hills                         127   \n",
       "9            Bradford Woods                         106   \n",
       "\n",
       "   total_fully_vaccinated  total_fully_vaccinated_w_booster  \n",
       "0                    1136                              1175  \n",
       "1                    1703                              1445  \n",
       "2                    7370                              7325  \n",
       "3                     678                               746  \n",
       "4                     680                               656  \n",
       "5                     144                               165  \n",
       "6                   11223                             13100  \n",
       "7                    1009                               719  \n",
       "8                     576                               507  \n",
       "9                     460                               475  "
      ]
     },
     "execution_count": 37,
     "metadata": {},
     "output_type": "execute_result"
    }
   ],
   "source": [
    "covid = pd.read_csv(\"covid.csv\")\n",
    "covid.head(10)"
   ]
  },
  {
   "cell_type": "markdown",
   "metadata": {},
   "source": [
    "This shows the neighborhoods along with the number of partitaly vaccinated, fully vaccinatd, and fully vaccinated with a booster "
   ]
  },
  {
   "cell_type": "markdown",
   "metadata": {},
   "source": [
    "In order to find the safety neighborhood in tests of covid-19, we want to find the place with the most fully vacinated people with a booster. In order to do that we can sort the data by the fully vaccinated with booster collum\n"
   ]
  },
  {
   "cell_type": "code",
   "execution_count": 38,
   "metadata": {},
   "outputs": [
    {
     "data": {
      "text/html": [
       "<div>\n",
       "<style scoped>\n",
       "    .dataframe tbody tr th:only-of-type {\n",
       "        vertical-align: middle;\n",
       "    }\n",
       "\n",
       "    .dataframe tbody tr th {\n",
       "        vertical-align: top;\n",
       "    }\n",
       "\n",
       "    .dataframe thead th {\n",
       "        text-align: right;\n",
       "    }\n",
       "</style>\n",
       "<table border=\"1\" class=\"dataframe\">\n",
       "  <thead>\n",
       "    <tr style=\"text-align: right;\">\n",
       "      <th></th>\n",
       "      <th>neighborhood_municipality</th>\n",
       "      <th>total_partially_vaccinated</th>\n",
       "      <th>total_fully_vaccinated</th>\n",
       "      <th>total_fully_vaccinated_w_booster</th>\n",
       "    </tr>\n",
       "  </thead>\n",
       "  <tbody>\n",
       "    <tr>\n",
       "      <th>39</th>\n",
       "      <td>Mount Lebanon</td>\n",
       "      <td>3463</td>\n",
       "      <td>12008</td>\n",
       "      <td>14594</td>\n",
       "    </tr>\n",
       "    <tr>\n",
       "      <th>6</th>\n",
       "      <td>Bethel Park</td>\n",
       "      <td>2328</td>\n",
       "      <td>11223</td>\n",
       "      <td>13100</td>\n",
       "    </tr>\n",
       "    <tr>\n",
       "      <th>95</th>\n",
       "      <td>Ross</td>\n",
       "      <td>2444</td>\n",
       "      <td>11774</td>\n",
       "      <td>12461</td>\n",
       "    </tr>\n",
       "    <tr>\n",
       "      <th>45</th>\n",
       "      <td>Penn Hills</td>\n",
       "      <td>2818</td>\n",
       "      <td>13253</td>\n",
       "      <td>11626</td>\n",
       "    </tr>\n",
       "    <tr>\n",
       "      <th>144</th>\n",
       "      <td>McCandless</td>\n",
       "      <td>2443</td>\n",
       "      <td>10184</td>\n",
       "      <td>11415</td>\n",
       "    </tr>\n",
       "  </tbody>\n",
       "</table>\n",
       "</div>"
      ],
      "text/plain": [
       "    neighborhood_municipality  total_partially_vaccinated  \\\n",
       "39              Mount Lebanon                        3463   \n",
       "6                 Bethel Park                        2328   \n",
       "95                       Ross                        2444   \n",
       "45                 Penn Hills                        2818   \n",
       "144                McCandless                        2443   \n",
       "\n",
       "     total_fully_vaccinated  total_fully_vaccinated_w_booster  \n",
       "39                    12008                             14594  \n",
       "6                     11223                             13100  \n",
       "95                    11774                             12461  \n",
       "45                    13253                             11626  \n",
       "144                   10184                             11415  "
      ]
     },
     "execution_count": 38,
     "metadata": {},
     "output_type": "execute_result"
    }
   ],
   "source": [
    "covid.nlargest(5,['total_fully_vaccinated_w_booster'])"
   ]
  },
  {
   "cell_type": "markdown",
   "metadata": {},
   "source": [
    "These are the top 5 neighborhoods for fully vaccinated boosted people. Next I will show all the neighborhood compared to eachother in a bar graph\n"
   ]
  },
  {
   "cell_type": "code",
   "execution_count": 40,
   "metadata": {},
   "outputs": [
    {
     "data": {
      "text/plain": [
       "<matplotlib.axes._subplots.AxesSubplot at 0x7f470c7b8c40>"
      ]
     },
     "execution_count": 40,
     "metadata": {},
     "output_type": "execute_result"
    },
    {
     "data": {
      "image/png": "[encoded data removed]",
      "text/plain": [
       "<Figure size 432x288 with 1 Axes>"
      ]
     },
     "metadata": {
      "needs_background": "light"
     },
     "output_type": "display_data"
    }
   ],
   "source": [
    "covid.plot.bar(title=\"Total vaccinations\")\n"
   ]
  },
  {
   "cell_type": "markdown",
   "metadata": {},
   "source": [
    "While doing this we get a nice look at the data, it is hard to see the names of the neighborhoods. Instead of doing every neighborhood, why dont we just use the top 5 showed above to see how they compare.\n"
   ]
  },
  {
   "cell_type": "code",
   "execution_count": 44,
   "metadata": {},
   "outputs": [
    {
     "data": {
      "text/plain": [
       "<matplotlib.axes._subplots.AxesSubplot at 0x7f4707af5910>"
      ]
     },
     "execution_count": 44,
     "metadata": {},
     "output_type": "execute_result"
    },
    {
     "data": {
      "image/png": "[encoded data removed]",
      "text/plain": [
       "<Figure size 432x288 with 1 Axes>"
      ]
     },
     "metadata": {
      "needs_background": "light"
     },
     "output_type": "display_data"
    }
   ],
   "source": [
    "\n",
    "covidTop5 = covid.nlargest(5,['total_fully_vaccinated_w_booster'])\n",
    "covidT5 = pd.DataFrame(covidTop5)\n",
    "covidT5.plot.bar(title=\"Total vaccinations\")"
   ]
  },
  {
   "cell_type": "markdown",
   "metadata": {},
   "source": [
    "Here we can see a patern. In most cases the data goes highest to lowest from fully with booster, fully, to partial. Using this information we can assume that by finding the highest fully boosted neighborhood, we can find the safest place to live overall. To check this however we should get the highest in all catagories"
   ]
  },
  {
   "cell_type": "code",
   "execution_count": 47,
   "metadata": {},
   "outputs": [
    {
     "data": {
      "text/html": [
       "<div>\n",
       "<style scoped>\n",
       "    .dataframe tbody tr th:only-of-type {\n",
       "        vertical-align: middle;\n",
       "    }\n",
       "\n",
       "    .dataframe tbody tr th {\n",
       "        vertical-align: top;\n",
       "    }\n",
       "\n",
       "    .dataframe thead th {\n",
       "        text-align: right;\n",
       "    }\n",
       "</style>\n",
       "<table border=\"1\" class=\"dataframe\">\n",
       "  <thead>\n",
       "    <tr style=\"text-align: right;\">\n",
       "      <th></th>\n",
       "      <th>neighborhood_municipality</th>\n",
       "      <th>total_partially_vaccinated</th>\n",
       "      <th>total_fully_vaccinated</th>\n",
       "      <th>total_fully_vaccinated_w_booster</th>\n",
       "    </tr>\n",
       "  </thead>\n",
       "  <tbody>\n",
       "    <tr>\n",
       "      <th>39</th>\n",
       "      <td>Mount Lebanon</td>\n",
       "      <td>3463</td>\n",
       "      <td>12008</td>\n",
       "      <td>14594</td>\n",
       "    </tr>\n",
       "    <tr>\n",
       "      <th>6</th>\n",
       "      <td>Bethel Park</td>\n",
       "      <td>2328</td>\n",
       "      <td>11223</td>\n",
       "      <td>13100</td>\n",
       "    </tr>\n",
       "    <tr>\n",
       "      <th>95</th>\n",
       "      <td>Ross</td>\n",
       "      <td>2444</td>\n",
       "      <td>11774</td>\n",
       "      <td>12461</td>\n",
       "    </tr>\n",
       "  </tbody>\n",
       "</table>\n",
       "</div>"
      ],
      "text/plain": [
       "   neighborhood_municipality  total_partially_vaccinated  \\\n",
       "39             Mount Lebanon                        3463   \n",
       "6                Bethel Park                        2328   \n",
       "95                      Ross                        2444   \n",
       "\n",
       "    total_fully_vaccinated  total_fully_vaccinated_w_booster  \n",
       "39                   12008                             14594  \n",
       "6                    11223                             13100  \n",
       "95                   11774                             12461  "
      ]
     },
     "execution_count": 47,
     "metadata": {},
     "output_type": "execute_result"
    }
   ],
   "source": [
    "covid.nlargest(3,['total_fully_vaccinated_w_booster'])"
   ]
  },
  {
   "cell_type": "code",
   "execution_count": 48,
   "metadata": {},
   "outputs": [
    {
     "data": {
      "text/html": [
       "<div>\n",
       "<style scoped>\n",
       "    .dataframe tbody tr th:only-of-type {\n",
       "        vertical-align: middle;\n",
       "    }\n",
       "\n",
       "    .dataframe tbody tr th {\n",
       "        vertical-align: top;\n",
       "    }\n",
       "\n",
       "    .dataframe thead th {\n",
       "        text-align: right;\n",
       "    }\n",
       "</style>\n",
       "<table border=\"1\" class=\"dataframe\">\n",
       "  <thead>\n",
       "    <tr style=\"text-align: right;\">\n",
       "      <th></th>\n",
       "      <th>neighborhood_municipality</th>\n",
       "      <th>total_partially_vaccinated</th>\n",
       "      <th>total_fully_vaccinated</th>\n",
       "      <th>total_fully_vaccinated_w_booster</th>\n",
       "    </tr>\n",
       "  </thead>\n",
       "  <tbody>\n",
       "    <tr>\n",
       "      <th>45</th>\n",
       "      <td>Penn Hills</td>\n",
       "      <td>2818</td>\n",
       "      <td>13253</td>\n",
       "      <td>11626</td>\n",
       "    </tr>\n",
       "    <tr>\n",
       "      <th>39</th>\n",
       "      <td>Mount Lebanon</td>\n",
       "      <td>3463</td>\n",
       "      <td>12008</td>\n",
       "      <td>14594</td>\n",
       "    </tr>\n",
       "    <tr>\n",
       "      <th>95</th>\n",
       "      <td>Ross</td>\n",
       "      <td>2444</td>\n",
       "      <td>11774</td>\n",
       "      <td>12461</td>\n",
       "    </tr>\n",
       "  </tbody>\n",
       "</table>\n",
       "</div>"
      ],
      "text/plain": [
       "   neighborhood_municipality  total_partially_vaccinated  \\\n",
       "45                Penn Hills                        2818   \n",
       "39             Mount Lebanon                        3463   \n",
       "95                      Ross                        2444   \n",
       "\n",
       "    total_fully_vaccinated  total_fully_vaccinated_w_booster  \n",
       "45                   13253                             11626  \n",
       "39                   12008                             14594  \n",
       "95                   11774                             12461  "
      ]
     },
     "execution_count": 48,
     "metadata": {},
     "output_type": "execute_result"
    }
   ],
   "source": [
    "covid.nlargest(3,['total_fully_vaccinated'])"
   ]
  },
  {
   "cell_type": "code",
   "execution_count": 50,
   "metadata": {},
   "outputs": [
    {
     "data": {
      "text/html": [
       "<div>\n",
       "<style scoped>\n",
       "    .dataframe tbody tr th:only-of-type {\n",
       "        vertical-align: middle;\n",
       "    }\n",
       "\n",
       "    .dataframe tbody tr th {\n",
       "        vertical-align: top;\n",
       "    }\n",
       "\n",
       "    .dataframe thead th {\n",
       "        text-align: right;\n",
       "    }\n",
       "</style>\n",
       "<table border=\"1\" class=\"dataframe\">\n",
       "  <thead>\n",
       "    <tr style=\"text-align: right;\">\n",
       "      <th></th>\n",
       "      <th>neighborhood_municipality</th>\n",
       "      <th>total_partially_vaccinated</th>\n",
       "      <th>total_fully_vaccinated</th>\n",
       "      <th>total_fully_vaccinated_w_booster</th>\n",
       "    </tr>\n",
       "  </thead>\n",
       "  <tbody>\n",
       "    <tr>\n",
       "      <th>39</th>\n",
       "      <td>Mount Lebanon</td>\n",
       "      <td>3463</td>\n",
       "      <td>12008</td>\n",
       "      <td>14594</td>\n",
       "    </tr>\n",
       "    <tr>\n",
       "      <th>80</th>\n",
       "      <td>Shadyside (Pittsburgh)</td>\n",
       "      <td>2936</td>\n",
       "      <td>6237</td>\n",
       "      <td>4750</td>\n",
       "    </tr>\n",
       "    <tr>\n",
       "      <th>45</th>\n",
       "      <td>Penn Hills</td>\n",
       "      <td>2818</td>\n",
       "      <td>13253</td>\n",
       "      <td>11626</td>\n",
       "    </tr>\n",
       "  </tbody>\n",
       "</table>\n",
       "</div>"
      ],
      "text/plain": [
       "   neighborhood_municipality  total_partially_vaccinated  \\\n",
       "39             Mount Lebanon                        3463   \n",
       "80    Shadyside (Pittsburgh)                        2936   \n",
       "45                Penn Hills                        2818   \n",
       "\n",
       "    total_fully_vaccinated  total_fully_vaccinated_w_booster  \n",
       "39                   12008                             14594  \n",
       "80                    6237                              4750  \n",
       "45                   13253                             11626  "
      ]
     },
     "execution_count": 50,
     "metadata": {},
     "output_type": "execute_result"
    }
   ],
   "source": [
    "covid.nlargest(3,['total_partially_vaccinated'])"
   ]
  },
  {
   "cell_type": "markdown",
   "metadata": {},
   "source": [
    "Penn Hills, Ross, And Mount Lebanon are all shown multiple times in the top 3 for each. We can kick Ross out though since it is only in 2, wee the others are in all 3"
   ]
  },
  {
   "cell_type": "markdown",
   "metadata": {},
   "source": [
    "This leaves us with Mount and Penn Hills"
   ]
  },
  {
   "cell_type": "markdown",
   "metadata": {},
   "source": [
    "When we can do here to find the safest area is make a point system. For example each first place is 3 points, second is 2, and 3rd is 1. By doing this we can see that Mount has 8 points, beating Penn Hills with only 4 points."
   ]
  },
  {
   "cell_type": "markdown",
   "metadata": {},
   "source": [
    "According to this measurment, Mount Lebanon is the safest place in Pittsburg in relation to covid 19 vaccines"
   ]
  },
  {
   "cell_type": "code",
   "execution_count": null,
   "metadata": {},
   "outputs": [],
   "source": []
  }
 ],
 "metadata": {
  "kernelspec": {
   "display_name": "Python 3",
   "language": "python",
   "name": "python3"
  },
  "language_info": {
   "codemirror_mode": {
    "name": "ipython",
    "version": 3
   },
   "file_extension": ".py",
   "mimetype": "text/x-python",
   "name": "python",
   "nbconvert_exporter": "python",
   "pygments_lexer": "ipython3",
   "version": "3.8.3"
  }
 },
 "nbformat": 4,
 "nbformat_minor": 4
}
